{
 "cells": [
  {
   "cell_type": "code",
   "execution_count": 1,
   "metadata": {},
   "outputs": [
    {
     "name": "stdout",
     "output_type": "stream",
     "text": [
      "[[1. 0. 0.]\n",
      " [0. 1. 0.]\n",
      " [0. 0. 1.]]\n",
      "(10, 3)\n",
      "[[ 0.98275124  0.36116724 -0.04531251]\n",
      " [-1.09112152 -1.0235868  -0.87823129]\n",
      " [-0.1723125   1.58433825 -0.75473487]\n",
      " [-0.71017318 -0.22518841 -1.26314325]\n",
      " [ 0.66063222 -0.04026144  1.95630459]\n",
      " [-0.37952248 -0.27506129 -0.64820628]\n",
      " [ 0.38658464  0.16049222 -0.28063663]\n",
      " [-0.06416386  0.36877904  1.76298866]\n",
      " [ 0.79383155 -0.87404126 -0.897905  ]\n",
      " [-1.16404884 -0.1783565  -1.19828243]]\n",
      "-0.10488069011210592\n"
     ]
    }
   ],
   "source": [
    "import numpy as np\n",
    "mu=np.array([0, 0, 0])\n",
    "sigma=np.eye(3)\n",
    "print(sigma)\n",
    "seed=np.random.seed()\n",
    "#rng = np.random.default_rng()\n",
    "X = np.random.multivariate_normal(mu, sigma,10 )\n",
    "print(np.shape(X))\n",
    "print(X)\n",
    "print(np.mean(X))"
   ]
  },
  {
   "cell_type": "markdown",
   "metadata": {},
   "source": [
    "To test the quadratic minimization while minimizing RSS in a least squares model."
   ]
  },
  {
   "cell_type": "code",
   "execution_count": 1,
   "metadata": {},
   "outputs": [
    {
     "name": "stdout",
     "output_type": "stream",
     "text": [
      "iter: 0\n",
      "x: [0. 0. 0.]\n",
      "g: [-3.13014035  6.24964769  2.65485544]\n",
      "h: [ 3.13014035 -6.24964769 -2.65485544]\n",
      "55.9041323043392\n",
      "xnew: [ 1.21337624 -2.42263067 -1.02913549]\n",
      "iter: 1\n",
      "x: [ 1.21337624 -2.42263067 -1.02913549]\n",
      "g: [ 0.48872882  0.50565331 -0.61410696]\n",
      "h: [-0.43992304 -0.60309907  0.57271192]\n",
      "0.8716684874770957\n",
      "xnew: [ 0.93670189 -2.80192892 -0.66894818]\n",
      "iter: 2\n",
      "x: [ 0.93670189 -2.80192892 -0.66894818]\n",
      "g: [0.01449149 0.00174762 0.01297184]\n",
      "h: [-0.01468394 -0.00201146 -0.0127213 ]\n",
      "0.000381326180441352\n",
      "xnew: [ 0.92849558 -2.80305305 -0.67605764]\n",
      "isNew: 1\n",
      "xnew: [ 0.92849558 -2.80305305 -0.67605764]\n",
      "fxnew: -11.109625416812946\n",
      "niters: 3\n",
      "idExit: 0\n"
     ]
    }
   ],
   "source": [
    "import numpy as np\n",
    "from conjgrad import cg\n",
    "p=3\n",
    "n=10\n",
    "niter=1\n",
    "for i in range(niter):\n",
    "    mu=np.zeros(p)\n",
    "    sigma=np.eye(p)\n",
    "    seed=np.random.seed(i)\n",
    "    X = np.random.multivariate_normal(mu, sigma,n )\n",
    "    colmeans=np.mean(X,axis=0)  # find the mean of each column\n",
    "    X= X - colmeans             # make the column mean zero\n",
    "    colnorms = np.linalg.norm(X, axis=0, keepdims=True) # find 2-norm of each col\n",
    "    X = X / colnorms \n",
    "    b = np.random.randint(-2,2,p)\n",
    "    e = np.random.normal(size=n)\n",
    "    y = X @ b.T + e.T\n",
    "    \n",
    "    A = 2*(X.T @ X)\n",
    "    d = -2*(X.T @ y)\n",
    "    c = y.T @ y\n",
    "\n",
    "    # Perform spectral decomposition\n",
    "    diagD, Qmat = np.linalg.eigh(A)  # diagD is a vector of eigenvalues in ascending order\n",
    "                               # Qmat is orthonormal matrix of corresponding eigenvectors\n",
    "    neig=sum(diagD>1e-9)    \n",
    "    Q=Qmat[:,n-neig:]     \n",
    "    D=diagD[n-neig:] \n",
    "    x=np.zeros(p)\n",
    "    isNew, xnew, fxnew, niters, idExit=cg(p ,A ,d ,Q ,D ,neig ,x)\n",
    "    print(\"isNew:\",isNew)\n",
    "    print(\"xnew:\",xnew)\n",
    "    print(\"fxnew:\",fxnew)\n",
    "    print(\"niters:\",niters)\n",
    "    print(\"idExit:\",idExit)"
   ]
  }
 ],
 "metadata": {
  "kernelspec": {
   "display_name": "Proj1",
   "language": "python",
   "name": "python3"
  },
  "language_info": {
   "codemirror_mode": {
    "name": "ipython",
    "version": 3
   },
   "file_extension": ".py",
   "mimetype": "text/x-python",
   "name": "python",
   "nbconvert_exporter": "python",
   "pygments_lexer": "ipython3",
   "version": "3.13.2"
  }
 },
 "nbformat": 4,
 "nbformat_minor": 2
}
