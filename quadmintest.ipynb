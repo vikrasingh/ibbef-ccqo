{
 "cells": [
  {
   "cell_type": "code",
   "execution_count": 1,
   "metadata": {},
   "outputs": [
    {
     "name": "stdout",
     "output_type": "stream",
     "text": [
      "[[1. 0. 0.]\n",
      " [0. 1. 0.]\n",
      " [0. 0. 1.]]\n",
      "(10, 3)\n",
      "[[ 0.20097247  0.22093007  1.62751529]\n",
      " [-0.71183405  1.41201339 -0.03267171]\n",
      " [ 0.79363049 -2.62159823  0.4363773 ]\n",
      " [ 1.07970237  0.61105577 -0.77999884]\n",
      " [ 2.35817058 -1.8115023  -1.18849546]\n",
      " [-2.79431252  1.43008531 -0.51607595]\n",
      " [-1.19064852 -0.0884257  -1.77632339]\n",
      " [-0.56682813  0.75437922  0.06347197]\n",
      " [-2.1711898   0.72481729  0.51366566]\n",
      " [ 0.19220619 -0.60647498  2.03838595]]\n",
      "-0.07996667451002722\n"
     ]
    }
   ],
   "source": [
    "import numpy as np\n",
    "mu=np.array([0, 0, 0])\n",
    "sigma=np.eye(3)\n",
    "print(sigma)\n",
    "seed=np.random.seed()\n",
    "#rng = np.random.default_rng()\n",
    "X = np.random.multivariate_normal(mu, sigma,10 )\n",
    "print(np.shape(X))\n",
    "print(X)\n",
    "print(np.mean(X))"
   ]
  },
  {
   "cell_type": "markdown",
   "metadata": {},
   "source": [
    "To test the quadratic minimization while minimizing RSS in a least squares model."
   ]
  },
  {
   "cell_type": "code",
   "execution_count": null,
   "metadata": {},
   "outputs": [],
   "source": [
    "import numpy as np\n",
    "from conjgrad import cg\n",
    "p=3\n",
    "n=10\n",
    "niter=1\n",
    "for i in range(niter):\n",
    "    mu=np.zeros(p)\n",
    "    sigma=np.eye(p)\n",
    "    seed=np.random.seed(i)\n",
    "    X = np.random.multivariate_normal(mu, sigma,n )\n",
    "    colmeans=np.mean(X,axis=0)  # find the mean of each column\n",
    "    X= X - colmeans             # make the column mean zero\n",
    "    colnorms = np.linalg.norm(X, axis=0, keepdims=True) # find 2-norm of each col\n",
    "    X = X / colnorms \n",
    "    b = np.random.randint(-2,2,p)\n",
    "    e = np.random.normal(size=n)\n",
    "    y = X @ b.T + e.T\n",
    "    \n",
    "    A = 2*(X.T @ X)\n",
    "    d = -2*(X.T @ y)\n",
    "    c = y.T @ y\n",
    "\n",
    "    # Perform spectral decomposition\n",
    "    diagD, Qmat = np.linalg.eigh(A)  # diagD is a vector of eigenvalues in ascending order\n",
    "                               # Qmat is orthonormal matrix of corresponding eigenvectors\n",
    "    neig=sum(diagD>1e-9)    \n",
    "    Q=Qmat[:,n-neig:]     \n",
    "    D=diagD[n-neig:] \n",
    "    x=np.zeros(p)\n",
    "    isNew, xnew, fxnew, niters, idExit=cg(p ,A ,d ,Q ,D ,neig ,x)\n",
    "    print(\"isNew:\",isNew)\n",
    "    print(\"xnew:\",xnew)\n",
    "    print(\"fxnew:\",fxnew)\n",
    "    print(\"niters:\",niters)\n",
    "    print(\"idExit:\",idExit)"
   ]
  },
  {
   "cell_type": "code",
   "execution_count": 1,
   "metadata": {},
   "outputs": [
    {
     "name": "stdout",
     "output_type": "stream",
     "text": [
      "<class 'int'>\n",
      "<class 'list'>\n",
      "<class 'list'>\n"
     ]
    }
   ],
   "source": [
    "import heapq\n",
    "h = []\n",
    "heapq.heappush( h, (5, [1,0,1], [1.2, 2.2, 3.3]) )\n",
    "heapq.heappush( h, (5, [1,0,0], [4.4, 5.2, 6.3]) )\n",
    "heapq.heappush( h, (5, [1,1,1], [7.2, 8.2, 9.3]) )\n",
    "\n",
    "#heapq.heappush(h, (1, 'write spec'))\n",
    "#heapq.heappush(h, (3, 'create tests'))\n",
    "item=heapq.heappop(h)\n",
    "\n",
    "print(type(item[0]))\n",
    "print(type(item[1]))\n",
    "print(type(item[2]))\n"
   ]
  }
 ],
 "metadata": {
  "kernelspec": {
   "display_name": "base",
   "language": "python",
   "name": "python3"
  },
  "language_info": {
   "codemirror_mode": {
    "name": "ipython",
    "version": 3
   },
   "file_extension": ".py",
   "mimetype": "text/x-python",
   "name": "python",
   "nbconvert_exporter": "python",
   "pygments_lexer": "ipython3",
   "version": "3.12.7"
  }
 },
 "nbformat": 4,
 "nbformat_minor": 2
}
