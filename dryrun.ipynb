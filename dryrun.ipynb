{
 "cells": [
  {
   "cell_type": "code",
   "execution_count": null,
   "metadata": {},
   "outputs": [
    {
     "name": "stdout",
     "output_type": "stream",
     "text": [
      "['__builtins__', '__cached__', '__doc__', '__file__', '__loader__', '__name__', '__package__', '__spec__', 'cg']\n",
      "[[-0.43018908 -0.82119445]\n",
      " [ 0.90025898 -0.35949122]\n",
      " [-0.06686651  0.44317687]]\n",
      "[1.59642438 5.51711323]\n",
      "2\n",
      "[0.5 1. ]\n",
      "iter: 0\n",
      "x: [0. 0. 0.]\n",
      "g: [1. 2. 3.]\n",
      "h: [-1. -2. -3.]\n",
      "14.0\n",
      "xnew: [-14. -28. -42.]\n",
      "iter: 1\n",
      "x: [-14. -28. -42.]\n",
      "g: [  1. -26.  17.]\n",
      "h: [ -70. -112. -224.]\n",
      "966.0\n",
      "xnew: [14.75 18.   50.  ]\n",
      "iter: 2\n",
      "x: [14.75 18.   50.  ]\n",
      "g: [-22.     2.75   5.5 ]\n",
      "h: [ -15.8125  -63.25   -126.5   ]\n",
      "521.8125\n",
      "xnew: [12.  7. 28.]\n",
      "isNew: 1\n",
      "xnew: [12.  7. 28.]\n",
      "fxnew: 55.0\n",
      "niters: 3\n",
      "idExit: 0\n",
      "xols: [12.  7. 28.]\n"
     ]
    }
   ],
   "source": [
    "# add the directory to the path, if not already added\n",
    "import sys\n",
    "import os\n",
    "path_to_add = \"/Users/vikra/Downloads/dryrun\"  # Replace with the path to your directory\n",
    "# Ensure the path is absolute\n",
    "path_to_add = os.path.abspath(path_to_add)\n",
    "if path_to_add not in sys.path:\n",
    "  sys.path.append(path_to_add)\n",
    "\n",
    "# main\n",
    "import numpy as np\n",
    "import numpy.linalg as la\n",
    "import conjgrad\n",
    "print(dir(conjgrad)) \n",
    "\n",
    "rPara=np.array([ [1e-14],      #rPara(1)=10^(-14)=eps\n",
    "        [1e-9],       #rPara(2)=10^(-9)=epsPivot used in matrix factorization\n",
    "        [1e-9],       #rPara(3)=10^(-6)=epsSD   10^(-3) is not good\n",
    "        [0.5*1e-3],   #rPara(4)=0.5*10^(-3), MS9/9/19 relative error of f-value\n",
    "        [1e-9],       # used in MiniQuadFunUnconstAdapt1.m and MiniQuadFunUnconstAdapt3 , if -df < rPara(5)*|fx0| , not acceptable progress\n",
    "        [0.5],        # used in MiniQuadFunUnconstAdapt2.m  , if  -gdx*rPara(6) > -df , not acceptable progress  \n",
    "        [1e18],       # maxDx, max value allowed for a step size in uSD,uPT,uCD\n",
    "        [1e5],        #rparaFac0=1e+5, since 8/16/23\n",
    "        [1e-1],       #iparaFac0=1e-1\n",
    "] )   \n",
    "\n",
    "iPara=np.array([  [0],        # iPara(1)=option used in LDLtOfSymMatrix21.m  for prearrangement\n",
    "        [500],       # iPara(2)=max # of iterations for S-D alg\n",
    "        [0],         # iPara(3)= MS:9/8/19 toDebug\n",
    "        [21],        # iPara(4)= MS:9/9/19   #-1 is max length of printed out vector/matrix\n",
    "        [3],         # iPara(5)=0 means use full recursion, iPara(5)=1 means use 1-recursion + steepest descent to solve instead of full recursion\n",
    "        [0],         # iPara(6)=1 means use SD2 in the framework of v41\n",
    "        [0],         # iPara(7)= MS:9/15/19 as option to pre-permutation of variables based on domain size\n",
    "        [1],         # iPara(8)= MS:10/20/19 as option to check suff cond of optimality for earlier exit (1=y, 0=n)\n",
    "        [0],         # iPara(9)= MS:10/31/19 as option to use 0=LDU (original/default), 1=QDQ' ([Q,D]=eig(A); Q=o.n. e.v. for symmetric case, enough!)\n",
    "        [0],         # iPara(10)=MS:10/31/19 as option to use different choices of Xstart[]/Ystart[]: 0=Box(original/default), 1=space-Box(hybrid)\n",
    "        [5],         # iPara(11)=VS:11/7/19, select bdy face 0=original, 1,2,3 for 3 versions of min dist from a line, 4 for min dist from a face approach 11/20\n",
    "        [0],         # iPara(12)=tie breaker flag to select only one bdy face.\n",
    "        [0],         # iPara(13)=as a flag controlling a pre-search procedure! It applies to: Sd,AllSd,PsdSd,\n",
    "] )                \n",
    "\n",
    "# Example matrix (symmetric for real eigenvalues and eigenvectors)\n",
    "n=3\n",
    "A = np.array([[4, 1, -2],          # hessian\n",
    "                   [1, 2, -1],\n",
    "                   [-2, -1, 1]])\n",
    "d = np.array([1, 2, 3])    # linear term\n",
    "#d=d.reshape(-1,1)\n",
    "#x = np.zeros((n,1)) # starting point\n",
    "x=np.zeros(n)\n",
    "diagInv=1/np.diag(A)\n",
    "\n",
    "# Perform spectral decomposition\n",
    "diagD, Qmat = la.eigh(A)  # diagD is a vector of eigenvalues in ascending order\n",
    "                               # Qmat is orthonormal matrix of corresponding eigenvectors\n",
    "S={}   # create an empty dictionary\n",
    "neig=sum(diagD>rPara[1])       # S['nNonZeroEig']=sum(diagD>rPara[1])\n",
    "#print(diagD),print(Qmat[:,-2:])\n",
    "Q=Qmat[:,n-neig:]                              # S['Q']=Qmat[:,n-S['nNonZeroEig']:]\n",
    "D=diagD[n-neig:]           # S['D']=diagD[n-S['nNonZeroEig']:]\n",
    "#D=D.reshape(-1,1)\n",
    "invD=np.array(diagInv[n-neig:])                  #S['diagInv']=np.array(diagInv[n-S['nNonZeroEig']:])\n",
    "\n",
    "print(Q)  \n",
    "print(D)\n",
    "print(neig)\n",
    "print(invD)\n",
    "\n",
    "isSoftStop=1\n",
    "isTF=0\n",
    "targetF=0\n",
    "epsx, maxDx, epsg, nMax =rPara[1], rPara[6], rPara[2], iPara[1]\n",
    "\n",
    "isNew, xnew, fxnew, niters, idExit=conjgrad.cg(n,A,d,Q,D,neig,x,epsx,maxDx,epsg,nMax,isSoftStop,isTF,targetF)\n",
    "print(\"isNew:\",isNew)\n",
    "print(\"xnew:\",xnew)\n",
    "print(\"fxnew:\",fxnew)\n",
    "print(\"niters:\",niters)\n",
    "print(\"idExit:\",idExit)\n",
    "print(\"xols:\" ,-(np.linalg.inv(A)@d))"
   ]
  },
  {
   "cell_type": "code",
   "execution_count": 1,
   "metadata": {},
   "outputs": [
    {
     "name": "stdout",
     "output_type": "stream",
     "text": [
      "[[1]\n",
      " [2]] [[3 4]]\n"
     ]
    },
    {
     "ename": "ValueError",
     "evalue": "shapes (2,1) and (2,1) not aligned: 1 (dim 1) != 2 (dim 0)",
     "output_type": "error",
     "traceback": [
      "\u001b[31m---------------------------------------------------------------------------\u001b[39m",
      "\u001b[31mValueError\u001b[39m                                Traceback (most recent call last)",
      "\u001b[36mCell\u001b[39m\u001b[36m \u001b[39m\u001b[32mIn[1]\u001b[39m\u001b[32m, line 8\u001b[39m\n\u001b[32m      6\u001b[39m b=b.reshape(\u001b[32m1\u001b[39m,-\u001b[32m1\u001b[39m)\n\u001b[32m      7\u001b[39m \u001b[38;5;28mprint\u001b[39m(a,b)\n\u001b[32m----> \u001b[39m\u001b[32m8\u001b[39m \u001b[38;5;28mprint\u001b[39m(\u001b[43mnp\u001b[49m\u001b[43m.\u001b[49m\u001b[43minner\u001b[49m\u001b[43m(\u001b[49m\u001b[43ma\u001b[49m\u001b[43m,\u001b[49m\u001b[43mb\u001b[49m\u001b[43m)\u001b[49m)\n",
      "\u001b[31mValueError\u001b[39m: shapes (2,1) and (2,1) not aligned: 1 (dim 1) != 2 (dim 0)"
     ]
    }
   ],
   "source": [
    "import numpy as np\n",
    "a=np.array([1, 2])\n",
    "a=a.reshape(-1,1)\n",
    "b=np.array([[3],\n",
    "           [4]])\n",
    "b=b.reshape(1,-1)\n",
    "print(a,b)\n",
    "print(np.inner(a,b))"
   ]
  },
  {
   "cell_type": "code",
   "execution_count": 1,
   "metadata": {},
   "outputs": [
    {
     "name": "stdout",
     "output_type": "stream",
     "text": [
      "1\n",
      "1\n",
      "[[  4   4 -18]\n",
      " [  1   8  -9]\n",
      " [ -2  -4   9]]\n",
      "1\n"
     ]
    }
   ],
   "source": [
    "import numpy as np\n",
    "x=np.array([1, 2 ,3])\n",
    "A = np.array([[4, 1, -2],          # hessian\n",
    "                   [1, 2, -1],\n",
    "                   [-2, -1, 1]])\n",
    "\n",
    "print( np.dot(x.T,np.dot(A,x.T) ))\n",
    "print( np.dot(x,np.dot(A,x) ))\n",
    "print( x.T*(A*x) )\n",
    "print( x@(A@x.T))"
   ]
  }
 ],
 "metadata": {
  "kernelspec": {
   "display_name": "Proj1",
   "language": "python",
   "name": "python3"
  },
  "language_info": {
   "codemirror_mode": {
    "name": "ipython",
    "version": 3
   },
   "file_extension": ".py",
   "mimetype": "text/x-python",
   "name": "python",
   "nbconvert_exporter": "python",
   "pygments_lexer": "ipython3",
   "version": "3.13.2"
  }
 },
 "nbformat": 4,
 "nbformat_minor": 2
}
